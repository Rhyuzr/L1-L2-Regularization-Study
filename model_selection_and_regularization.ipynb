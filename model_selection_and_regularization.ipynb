{
  "cells": [
    {
      "cell_type": "markdown",
      "id": "5d17efba-6067-4ee3-8721-8c5973c1c335",
      "metadata": {
        "id": "5d17efba-6067-4ee3-8721-8c5973c1c335"
      },
      "source": [
        "# Learning to do Model Selection\n",
        "In this lab, you will learn how to do model selection while strenghtening your knowledge about regularization. For this purpose, we will be using the [Digits Dataset](https://scikit-learn.org/1.5/auto_examples/datasets/plot_digits_last_image.html) embedded within scikit-learn.\n",
        "\n",
        "The goal is to train a classifier to discriminate between small digits (0 -4) and large digits (5-9)."
      ]
    },
    {
      "cell_type": "code",
      "execution_count": null,
      "id": "62a9dad1-c1b8-471d-9813-0cf7b52ebdca",
      "metadata": {
        "id": "62a9dad1-c1b8-471d-9813-0cf7b52ebdca"
      },
      "outputs": [],
      "source": [
        "# Loading the necessary libraries\n",
        "import matplotlib.pyplot as plt\n",
        "import numpy as np\n",
        "\n",
        "from sklearn import datasets\n",
        "from sklearn.linear_model import LogisticRegression\n",
        "from sklearn.preprocessing import StandardScaler\n",
        "from sklearn.model_selection import KFold, train_test_split\n",
        "from sklearn.metrics import accuracy_score"
      ]
    },
    {
      "cell_type": "markdown",
      "id": "c328c6aa-aead-403b-a489-ba696dce6dc4",
      "metadata": {
        "id": "c328c6aa-aead-403b-a489-ba696dce6dc4"
      },
      "source": [
        "## Loading the digits dataset and preparation"
      ]
    },
    {
      "cell_type": "code",
      "execution_count": null,
      "id": "38eace60-86ec-4165-80cd-40e436136b53",
      "metadata": {
        "id": "38eace60-86ec-4165-80cd-40e436136b53"
      },
      "outputs": [],
      "source": [
        "X, y = datasets.load_digits(return_X_y=True)\n",
        "X = StandardScaler().fit_transform(X)"
      ]
    },
    {
      "cell_type": "markdown",
      "id": "5918abbc-1b9d-42bd-be3f-8c1dc5e3495a",
      "metadata": {
        "id": "5918abbc-1b9d-42bd-be3f-8c1dc5e3495a"
      },
      "source": [
        "In the previous cell, we have loaded the digits dataset, followed by scaling the features of the input samples. Answer the following questions:\n",
        "\n",
        "1. How many samples does the dataset have?\n",
        "2. How many different values in y are there?\n",
        "3. Investigate why we scale the features and what type of scaling does StandardScaler performs.\n",
        "\n",
        "Use the cell below to implement the code to answer questions 1 and 2."
      ]
    },
    {
      "cell_type": "code",
      "execution_count": null,
      "id": "6fdb49cd-3a42-40d5-963a-cf7bbb43dfb5",
      "metadata": {
        "colab": {
          "base_uri": "https://localhost:8080/"
        },
        "id": "6fdb49cd-3a42-40d5-963a-cf7bbb43dfb5",
        "outputId": "665bbaa1-b055-4711-ff0c-ba194e6c15df"
      },
      "outputs": [
        {
          "output_type": "stream",
          "name": "stdout",
          "text": [
            "Number of samples in the dataset: 1797\n",
            "Number of different values in y: 10\n"
          ]
        }
      ],
      "source": [
        "# Question 1: Number of samples\n",
        "num_samples = len(X)\n",
        "\n",
        "# Question 2: Number of unique values in y\n",
        "num_classes = len(np.unique(y))\n",
        "\n",
        "print(f\"Number of samples in the dataset: {num_samples}\")\n",
        "print(f\"Number of different values in y: {num_classes}\")"
      ]
    },
    {
      "cell_type": "markdown",
      "source": [
        "Q3.\n",
        "\n",
        "\n",
        "Scaling ensures that all features **contribute equally** to the model by standardizing their range, **preventing features with larger values from dominating**.\n",
        "\n",
        "*StandardScaler* standardizes features by subtracting the mean and dividing by the standard deviation, resulting in data with a mean of 0 and a standard deviation of 1.\n",
        "\n",
        "standardScaler(x)= (x-μ)/σ"
      ],
      "metadata": {
        "id": "ktKTr6KAIH0j"
      },
      "id": "ktKTr6KAIH0j"
    },
    {
      "cell_type": "markdown",
      "id": "6d7e9b05-4caa-4675-9367-a54bcb0dd13c",
      "metadata": {
        "id": "6d7e9b05-4caa-4675-9367-a54bcb0dd13c"
      },
      "source": [
        "Using the original labels, create new labels (y_new) that reflects the classification problem we want to solve: discriminate between small and large digits:"
      ]
    },
    {
      "cell_type": "code",
      "execution_count": null,
      "id": "ca1ba45f-123f-452e-a3d0-7bb9793062c6",
      "metadata": {
        "colab": {
          "base_uri": "https://localhost:8080/"
        },
        "id": "ca1ba45f-123f-452e-a3d0-7bb9793062c6",
        "outputId": "6ecd7606-54af-4b9f-d2a8-ba9e2e177c1a"
      },
      "outputs": [
        {
          "output_type": "stream",
          "name": "stdout",
          "text": [
            "Training set size: 1437\n",
            "Testing set size: 360\n"
          ]
        }
      ],
      "source": [
        "# classify small against large digits\n",
        "\n",
        "def classify_digit(digit):\n",
        "    return 0 if digit <= 4 else 1\n",
        "\n",
        "y_new = np.array([classify_digit(d) for d in y])\n",
        "\n",
        "# Split the data into training and testing sets\n",
        "X_train, X_test, y_train, y_test = train_test_split(X, y_new, test_size=0.2, random_state=42)\n",
        "\n",
        "print(f\"Training set size: {X_train.shape[0]}\")\n",
        "print(f\"Testing set size: {X_test.shape[0]}\")"
      ]
    },
    {
      "cell_type": "markdown",
      "id": "479e37ce-2211-428a-8cd4-ecfe30ed7ade",
      "metadata": {
        "id": "479e37ce-2211-428a-8cd4-ecfe30ed7ade"
      },
      "source": [
        "We now split the data into training and testing. We will leave 20% of the data for testing.\n",
        "\n",
        "**Question:** What property of a model is measure with the testing set?"
      ]
    },
    {
      "cell_type": "markdown",
      "id": "0a6e3abd-178e-4a08-a240-1905a13c26d9",
      "metadata": {
        "id": "0a6e3abd-178e-4a08-a240-1905a13c26d9"
      },
      "source": [
        "Your answer: The testing set measures the generalization ability of a model — how well the model performs on unseen data. This is a critical evaluation metric to ensure the model isn't overfitting."
      ]
    },
    {
      "cell_type": "code",
      "execution_count": null,
      "id": "10190e20-44b8-4b0e-a7fd-a033d3235805",
      "metadata": {
        "id": "10190e20-44b8-4b0e-a7fd-a033d3235805"
      },
      "outputs": [],
      "source": [
        "# Split the data into training and testing sets\n",
        "X_train, X_test, y_train, y_test = train_test_split(X, y_new, test_size=0.2, random_state=42)"
      ]
    },
    {
      "cell_type": "markdown",
      "id": "46b5ce13-4658-4784-b036-4af800317710",
      "metadata": {
        "id": "46b5ce13-4658-4784-b036-4af800317710"
      },
      "source": [
        "We will use logistic regression with regularization to solve our classification problem. In a first experiment, we will use 'L2' regularization."
      ]
    },
    {
      "cell_type": "code",
      "execution_count": null,
      "id": "18780d5e-e286-4912-96c4-c54763b54764",
      "metadata": {
        "id": "18780d5e-e286-4912-96c4-c54763b54764"
      },
      "outputs": [],
      "source": [
        "model_l2 = LogisticRegression(penalty=\"l2\", tol=0.01, solver=\"saga\")"
      ]
    },
    {
      "cell_type": "markdown",
      "id": "b8ce1da2-1bd5-47d9-9216-68b876323b92",
      "metadata": {
        "id": "b8ce1da2-1bd5-47d9-9216-68b876323b92"
      },
      "source": [
        "Use the [scikit-learn documentation](https://scikit-learn.org/stable/modules/generated/sklearn.linear_model.LogisticRegression.html) to understand the role of each parameter. Provide your answer below."
      ]
    },
    {
      "cell_type": "markdown",
      "id": "2bb43d85-ffc7-4cb2-8f61-4820abeaec94",
      "metadata": {
        "id": "2bb43d85-ffc7-4cb2-8f61-4820abeaec94"
      },
      "source": [
        "**penalty:**\n",
        "\n",
        "Specifies the regularization technique used to prevent overfitting by adding a penalty term to the loss function.\n",
        "\"l2\" means Ridge regularization, which penalizes large weights by adding the squared sum of coefficients to the cost function.\n",
        "\n",
        "**tol:**\n",
        "\n",
        "The tolerance for the optimization algorithm. It determines the stopping criteria.\n",
        "Smaller values result in more precise optimization but increase computational cost.\n",
        "\n",
        "**solver:**\n",
        "\n",
        "Specifies the algorithm used for optimization.\n",
        "\"saga\" is a fast and robust solver that supports both l1 and l2 regularization and works well with large datasets and sparse data."
      ]
    },
    {
      "cell_type": "markdown",
      "id": "1a07556a-94dc-4e0d-b9e2-7fc6d95ff579",
      "metadata": {
        "id": "1a07556a-94dc-4e0d-b9e2-7fc6d95ff579"
      },
      "source": [
        "Your task will be to choose the best regularization hyperparameter ($\\lambda$ in the course), i.e. do model selection."
      ]
    },
    {
      "cell_type": "markdown",
      "id": "7fef1b1f-9189-4822-84e6-56b8b0644fe1",
      "metadata": {
        "id": "7fef1b1f-9189-4822-84e6-56b8b0644fe1"
      },
      "source": [
        "Define a vector lambda_values with a range of hyper-parameters to evaluate. Consider, at the least, the following values: 0.001, 0.01, 0.1, 1, 10, 100."
      ]
    },
    {
      "cell_type": "code",
      "execution_count": null,
      "id": "fdcd9939-46c5-4322-b81b-7450d5740e59",
      "metadata": {
        "id": "fdcd9939-46c5-4322-b81b-7450d5740e59"
      },
      "outputs": [],
      "source": [
        "# Define the parameter grid for lambda\n",
        "\n",
        "lambda_values = [0.001, 0.01, 0.1, 1, 10, 100]\n",
        "param_grid = {'C': [1 / l for l in lambda_values]}"
      ]
    },
    {
      "cell_type": "markdown",
      "id": "8c0d8eb8-8121-4ef2-b44a-44f1e6e974fe",
      "metadata": {
        "id": "8c0d8eb8-8121-4ef2-b44a-44f1e6e974fe"
      },
      "source": [
        "**Important:** Scikit-learn uses the hyper-parameter C for the regularization. This is equivalent to C=1/lambda, where lambda is the expression seen in the course."
      ]
    },
    {
      "cell_type": "markdown",
      "id": "9bc49b73-6ac6-4bf4-8ebb-ae3a8ecfa0d4",
      "metadata": {
        "id": "9bc49b73-6ac6-4bf4-8ebb-ae3a8ecfa0d4"
      },
      "source": [
        "To choose the right value, you will do cross-validation with the available training dataset.\n",
        "\n",
        "**Question:** According to the slides you reviewed, what is a typical value for K in K-fold cross-validation?"
      ]
    },
    {
      "cell_type": "markdown",
      "id": "bb3e2649-e8ac-4571-8a5a-e7810a67207d",
      "metadata": {
        "id": "bb3e2649-e8ac-4571-8a5a-e7810a67207d"
      },
      "source": [
        " A typical value for K in K-fold cross-validation is 5 as these values strike a balance between computational efficiency and reliable model evaluation."
      ]
    },
    {
      "cell_type": "markdown",
      "id": "fc046a56-4d0c-40fe-ba4d-70e4bf739d35",
      "metadata": {
        "id": "fc046a56-4d0c-40fe-ba4d-70e4bf739d35"
      },
      "source": [
        "Use that value to initialize the KFold class below:"
      ]
    },
    {
      "cell_type": "code",
      "execution_count": null,
      "id": "1a67aeed-26d0-4dd1-9ddf-b2d65b044e27",
      "metadata": {
        "id": "1a67aeed-26d0-4dd1-9ddf-b2d65b044e27"
      },
      "outputs": [],
      "source": [
        "# Define the number of folds for cross-validation\n",
        "num_folds = 5\n",
        "kf = KFold(n_splits=num_folds)"
      ]
    },
    {
      "cell_type": "markdown",
      "id": "902ab34a-6fcf-4497-a4c7-a1e9c7fb7bcf",
      "metadata": {
        "id": "902ab34a-6fcf-4497-a4c7-a1e9c7fb7bcf"
      },
      "source": [
        "You will evaluate over K folds each of the models corresponding to the hyperparameters defined in lambda_grid.\n",
        "\n",
        "**Your task:** Comment every line of code that has not been commented in the code snippet below:"
      ]
    },
    {
      "cell_type": "code",
      "execution_count": null,
      "id": "f8775a47-3171-4680-9fce-805d87a0f074",
      "metadata": {
        "colab": {
          "base_uri": "https://localhost:8080/"
        },
        "id": "f8775a47-3171-4680-9fce-805d87a0f074",
        "outputId": "94ff9de9-f695-4291-ac56-6919b204686d"
      },
      "outputs": [
        {
          "output_type": "stream",
          "name": "stdout",
          "text": [
            "Now testing for lambda:  1000.0\n",
            "accuracy: 0.9131944444444444\n",
            "accuracy: 0.8854166666666666\n",
            "accuracy: 0.8571428571428571\n",
            "accuracy: 0.9198606271777003\n",
            "accuracy: 0.8571428571428571\n",
            "average of fold 0.8865514905149052\n",
            "Now testing for lambda:  100.0\n",
            "accuracy: 0.9131944444444444\n",
            "accuracy: 0.8854166666666666\n",
            "accuracy: 0.8571428571428571\n",
            "accuracy: 0.9198606271777003\n",
            "accuracy: 0.8571428571428571\n",
            "average of fold 0.8865514905149052\n",
            "Now testing for lambda:  10.0\n",
            "accuracy: 0.9131944444444444\n",
            "accuracy: 0.8854166666666666\n",
            "accuracy: 0.8571428571428571\n",
            "accuracy: 0.9198606271777003\n",
            "accuracy: 0.8571428571428571\n",
            "average of fold 0.8865514905149052\n",
            "Now testing for lambda:  1.0\n",
            "accuracy: 0.9131944444444444\n",
            "accuracy: 0.8854166666666666\n",
            "accuracy: 0.8571428571428571\n",
            "accuracy: 0.9198606271777003\n",
            "accuracy: 0.8571428571428571\n",
            "average of fold 0.8865514905149052\n",
            "Now testing for lambda:  0.1\n",
            "accuracy: 0.9097222222222222\n",
            "accuracy: 0.8923611111111112\n",
            "accuracy: 0.8501742160278746\n",
            "accuracy: 0.9233449477351916\n",
            "accuracy: 0.8571428571428571\n",
            "average of fold 0.8865490708478513\n",
            "Now testing for lambda:  0.01\n",
            "accuracy: 0.90625\n",
            "accuracy: 0.8784722222222222\n",
            "accuracy: 0.8362369337979094\n",
            "accuracy: 0.9059233449477352\n",
            "accuracy: 0.8466898954703833\n",
            "average of fold 0.8747144792876501\n"
          ]
        }
      ],
      "source": [
        "accuracy_scores = [] # Initialize a list to store accuracy scores for each C value\n",
        "\n",
        "for a_lambda in param_grid['C']: # Perform cross-validation for each value of C in the grid\n",
        "    print('Now testing for lambda: ', a_lambda)\n",
        "    C = a_lambda # Scikit-learn's regularization hyperparameter is equivalent to 1/lambda from the course.\n",
        "    model_l2.set_params(C=C) # Update the model's C parameter for the current lambda\n",
        "    fold_accuracies = [] # Stores the accuracy of the trained model for each fold\n",
        "\n",
        "    for train_index, val_index in kf.split(X_train): # Split the training data into K folds\n",
        "        X_ttrain, X_val = X_train[train_index], X_train[val_index] # Extract the training and validation data for the current fold\n",
        "        y_ttrain, y_val = y_train[train_index], y_train[val_index] # Extract the corresponding labels for the current fold\n",
        "\n",
        "        model_l2.fit(X_ttrain, y_ttrain) # Train the model on the training data of the current fold\n",
        "        y_pred = model_l2.predict(X_val) # Predict the labels on the validation data\n",
        "        accuracy = accuracy_score(y_val, y_pred) # Calculate the accuracy of the model on the validation set\n",
        "        print('accuracy:', accuracy) # Print the accuracy for the current fold\n",
        "        fold_accuracies.append(accuracy) # Append the accuracy to the list of fold accuracies\n",
        "\n",
        "    average_accuracy = sum(fold_accuracies) / num_folds # Calculate the average accuracy over all folds\n",
        "    print('average of fold', average_accuracy) # Print the average accuracy for the current lambda\n",
        "    accuracy_scores.append(average_accuracy) # Append the average accuracy to the list of accuracy scores"
      ]
    },
    {
      "cell_type": "markdown",
      "id": "95fed62b-a801-4a7d-81d9-ca31760c349d",
      "metadata": {
        "id": "95fed62b-a801-4a7d-81d9-ca31760c349d"
      },
      "source": [
        "Using the vector accuracy_scores, determine which value of lambda leads to the best model:"
      ]
    },
    {
      "cell_type": "code",
      "execution_count": null,
      "id": "7c7505e5-95e5-478e-ba9e-ba701169d134",
      "metadata": {
        "colab": {
          "base_uri": "https://localhost:8080/",
          "height": 116
        },
        "id": "7c7505e5-95e5-478e-ba9e-ba701169d134",
        "outputId": "55a5cfda-c3f0-41d2-b4d1-e988920e9696"
      },
      "outputs": [
        {
          "output_type": "stream",
          "name": "stdout",
          "text": [
            "Best lambda: 1000.0\n",
            "Best accuracy: 0.8865514905149052\n"
          ]
        },
        {
          "output_type": "execute_result",
          "data": {
            "text/plain": [
              "LogisticRegression(C=1000.0, solver='saga', tol=0.01)"
            ],
            "text/html": [
              "<style>#sk-container-id-1 {\n",
              "  /* Definition of color scheme common for light and dark mode */\n",
              "  --sklearn-color-text: black;\n",
              "  --sklearn-color-line: gray;\n",
              "  /* Definition of color scheme for unfitted estimators */\n",
              "  --sklearn-color-unfitted-level-0: #fff5e6;\n",
              "  --sklearn-color-unfitted-level-1: #f6e4d2;\n",
              "  --sklearn-color-unfitted-level-2: #ffe0b3;\n",
              "  --sklearn-color-unfitted-level-3: chocolate;\n",
              "  /* Definition of color scheme for fitted estimators */\n",
              "  --sklearn-color-fitted-level-0: #f0f8ff;\n",
              "  --sklearn-color-fitted-level-1: #d4ebff;\n",
              "  --sklearn-color-fitted-level-2: #b3dbfd;\n",
              "  --sklearn-color-fitted-level-3: cornflowerblue;\n",
              "\n",
              "  /* Specific color for light theme */\n",
              "  --sklearn-color-text-on-default-background: var(--sg-text-color, var(--theme-code-foreground, var(--jp-content-font-color1, black)));\n",
              "  --sklearn-color-background: var(--sg-background-color, var(--theme-background, var(--jp-layout-color0, white)));\n",
              "  --sklearn-color-border-box: var(--sg-text-color, var(--theme-code-foreground, var(--jp-content-font-color1, black)));\n",
              "  --sklearn-color-icon: #696969;\n",
              "\n",
              "  @media (prefers-color-scheme: dark) {\n",
              "    /* Redefinition of color scheme for dark theme */\n",
              "    --sklearn-color-text-on-default-background: var(--sg-text-color, var(--theme-code-foreground, var(--jp-content-font-color1, white)));\n",
              "    --sklearn-color-background: var(--sg-background-color, var(--theme-background, var(--jp-layout-color0, #111)));\n",
              "    --sklearn-color-border-box: var(--sg-text-color, var(--theme-code-foreground, var(--jp-content-font-color1, white)));\n",
              "    --sklearn-color-icon: #878787;\n",
              "  }\n",
              "}\n",
              "\n",
              "#sk-container-id-1 {\n",
              "  color: var(--sklearn-color-text);\n",
              "}\n",
              "\n",
              "#sk-container-id-1 pre {\n",
              "  padding: 0;\n",
              "}\n",
              "\n",
              "#sk-container-id-1 input.sk-hidden--visually {\n",
              "  border: 0;\n",
              "  clip: rect(1px 1px 1px 1px);\n",
              "  clip: rect(1px, 1px, 1px, 1px);\n",
              "  height: 1px;\n",
              "  margin: -1px;\n",
              "  overflow: hidden;\n",
              "  padding: 0;\n",
              "  position: absolute;\n",
              "  width: 1px;\n",
              "}\n",
              "\n",
              "#sk-container-id-1 div.sk-dashed-wrapped {\n",
              "  border: 1px dashed var(--sklearn-color-line);\n",
              "  margin: 0 0.4em 0.5em 0.4em;\n",
              "  box-sizing: border-box;\n",
              "  padding-bottom: 0.4em;\n",
              "  background-color: var(--sklearn-color-background);\n",
              "}\n",
              "\n",
              "#sk-container-id-1 div.sk-container {\n",
              "  /* jupyter's `normalize.less` sets `[hidden] { display: none; }`\n",
              "     but bootstrap.min.css set `[hidden] { display: none !important; }`\n",
              "     so we also need the `!important` here to be able to override the\n",
              "     default hidden behavior on the sphinx rendered scikit-learn.org.\n",
              "     See: https://github.com/scikit-learn/scikit-learn/issues/21755 */\n",
              "  display: inline-block !important;\n",
              "  position: relative;\n",
              "}\n",
              "\n",
              "#sk-container-id-1 div.sk-text-repr-fallback {\n",
              "  display: none;\n",
              "}\n",
              "\n",
              "div.sk-parallel-item,\n",
              "div.sk-serial,\n",
              "div.sk-item {\n",
              "  /* draw centered vertical line to link estimators */\n",
              "  background-image: linear-gradient(var(--sklearn-color-text-on-default-background), var(--sklearn-color-text-on-default-background));\n",
              "  background-size: 2px 100%;\n",
              "  background-repeat: no-repeat;\n",
              "  background-position: center center;\n",
              "}\n",
              "\n",
              "/* Parallel-specific style estimator block */\n",
              "\n",
              "#sk-container-id-1 div.sk-parallel-item::after {\n",
              "  content: \"\";\n",
              "  width: 100%;\n",
              "  border-bottom: 2px solid var(--sklearn-color-text-on-default-background);\n",
              "  flex-grow: 1;\n",
              "}\n",
              "\n",
              "#sk-container-id-1 div.sk-parallel {\n",
              "  display: flex;\n",
              "  align-items: stretch;\n",
              "  justify-content: center;\n",
              "  background-color: var(--sklearn-color-background);\n",
              "  position: relative;\n",
              "}\n",
              "\n",
              "#sk-container-id-1 div.sk-parallel-item {\n",
              "  display: flex;\n",
              "  flex-direction: column;\n",
              "}\n",
              "\n",
              "#sk-container-id-1 div.sk-parallel-item:first-child::after {\n",
              "  align-self: flex-end;\n",
              "  width: 50%;\n",
              "}\n",
              "\n",
              "#sk-container-id-1 div.sk-parallel-item:last-child::after {\n",
              "  align-self: flex-start;\n",
              "  width: 50%;\n",
              "}\n",
              "\n",
              "#sk-container-id-1 div.sk-parallel-item:only-child::after {\n",
              "  width: 0;\n",
              "}\n",
              "\n",
              "/* Serial-specific style estimator block */\n",
              "\n",
              "#sk-container-id-1 div.sk-serial {\n",
              "  display: flex;\n",
              "  flex-direction: column;\n",
              "  align-items: center;\n",
              "  background-color: var(--sklearn-color-background);\n",
              "  padding-right: 1em;\n",
              "  padding-left: 1em;\n",
              "}\n",
              "\n",
              "\n",
              "/* Toggleable style: style used for estimator/Pipeline/ColumnTransformer box that is\n",
              "clickable and can be expanded/collapsed.\n",
              "- Pipeline and ColumnTransformer use this feature and define the default style\n",
              "- Estimators will overwrite some part of the style using the `sk-estimator` class\n",
              "*/\n",
              "\n",
              "/* Pipeline and ColumnTransformer style (default) */\n",
              "\n",
              "#sk-container-id-1 div.sk-toggleable {\n",
              "  /* Default theme specific background. It is overwritten whether we have a\n",
              "  specific estimator or a Pipeline/ColumnTransformer */\n",
              "  background-color: var(--sklearn-color-background);\n",
              "}\n",
              "\n",
              "/* Toggleable label */\n",
              "#sk-container-id-1 label.sk-toggleable__label {\n",
              "  cursor: pointer;\n",
              "  display: block;\n",
              "  width: 100%;\n",
              "  margin-bottom: 0;\n",
              "  padding: 0.5em;\n",
              "  box-sizing: border-box;\n",
              "  text-align: center;\n",
              "}\n",
              "\n",
              "#sk-container-id-1 label.sk-toggleable__label-arrow:before {\n",
              "  /* Arrow on the left of the label */\n",
              "  content: \"▸\";\n",
              "  float: left;\n",
              "  margin-right: 0.25em;\n",
              "  color: var(--sklearn-color-icon);\n",
              "}\n",
              "\n",
              "#sk-container-id-1 label.sk-toggleable__label-arrow:hover:before {\n",
              "  color: var(--sklearn-color-text);\n",
              "}\n",
              "\n",
              "/* Toggleable content - dropdown */\n",
              "\n",
              "#sk-container-id-1 div.sk-toggleable__content {\n",
              "  max-height: 0;\n",
              "  max-width: 0;\n",
              "  overflow: hidden;\n",
              "  text-align: left;\n",
              "  /* unfitted */\n",
              "  background-color: var(--sklearn-color-unfitted-level-0);\n",
              "}\n",
              "\n",
              "#sk-container-id-1 div.sk-toggleable__content.fitted {\n",
              "  /* fitted */\n",
              "  background-color: var(--sklearn-color-fitted-level-0);\n",
              "}\n",
              "\n",
              "#sk-container-id-1 div.sk-toggleable__content pre {\n",
              "  margin: 0.2em;\n",
              "  border-radius: 0.25em;\n",
              "  color: var(--sklearn-color-text);\n",
              "  /* unfitted */\n",
              "  background-color: var(--sklearn-color-unfitted-level-0);\n",
              "}\n",
              "\n",
              "#sk-container-id-1 div.sk-toggleable__content.fitted pre {\n",
              "  /* unfitted */\n",
              "  background-color: var(--sklearn-color-fitted-level-0);\n",
              "}\n",
              "\n",
              "#sk-container-id-1 input.sk-toggleable__control:checked~div.sk-toggleable__content {\n",
              "  /* Expand drop-down */\n",
              "  max-height: 200px;\n",
              "  max-width: 100%;\n",
              "  overflow: auto;\n",
              "}\n",
              "\n",
              "#sk-container-id-1 input.sk-toggleable__control:checked~label.sk-toggleable__label-arrow:before {\n",
              "  content: \"▾\";\n",
              "}\n",
              "\n",
              "/* Pipeline/ColumnTransformer-specific style */\n",
              "\n",
              "#sk-container-id-1 div.sk-label input.sk-toggleable__control:checked~label.sk-toggleable__label {\n",
              "  color: var(--sklearn-color-text);\n",
              "  background-color: var(--sklearn-color-unfitted-level-2);\n",
              "}\n",
              "\n",
              "#sk-container-id-1 div.sk-label.fitted input.sk-toggleable__control:checked~label.sk-toggleable__label {\n",
              "  background-color: var(--sklearn-color-fitted-level-2);\n",
              "}\n",
              "\n",
              "/* Estimator-specific style */\n",
              "\n",
              "/* Colorize estimator box */\n",
              "#sk-container-id-1 div.sk-estimator input.sk-toggleable__control:checked~label.sk-toggleable__label {\n",
              "  /* unfitted */\n",
              "  background-color: var(--sklearn-color-unfitted-level-2);\n",
              "}\n",
              "\n",
              "#sk-container-id-1 div.sk-estimator.fitted input.sk-toggleable__control:checked~label.sk-toggleable__label {\n",
              "  /* fitted */\n",
              "  background-color: var(--sklearn-color-fitted-level-2);\n",
              "}\n",
              "\n",
              "#sk-container-id-1 div.sk-label label.sk-toggleable__label,\n",
              "#sk-container-id-1 div.sk-label label {\n",
              "  /* The background is the default theme color */\n",
              "  color: var(--sklearn-color-text-on-default-background);\n",
              "}\n",
              "\n",
              "/* On hover, darken the color of the background */\n",
              "#sk-container-id-1 div.sk-label:hover label.sk-toggleable__label {\n",
              "  color: var(--sklearn-color-text);\n",
              "  background-color: var(--sklearn-color-unfitted-level-2);\n",
              "}\n",
              "\n",
              "/* Label box, darken color on hover, fitted */\n",
              "#sk-container-id-1 div.sk-label.fitted:hover label.sk-toggleable__label.fitted {\n",
              "  color: var(--sklearn-color-text);\n",
              "  background-color: var(--sklearn-color-fitted-level-2);\n",
              "}\n",
              "\n",
              "/* Estimator label */\n",
              "\n",
              "#sk-container-id-1 div.sk-label label {\n",
              "  font-family: monospace;\n",
              "  font-weight: bold;\n",
              "  display: inline-block;\n",
              "  line-height: 1.2em;\n",
              "}\n",
              "\n",
              "#sk-container-id-1 div.sk-label-container {\n",
              "  text-align: center;\n",
              "}\n",
              "\n",
              "/* Estimator-specific */\n",
              "#sk-container-id-1 div.sk-estimator {\n",
              "  font-family: monospace;\n",
              "  border: 1px dotted var(--sklearn-color-border-box);\n",
              "  border-radius: 0.25em;\n",
              "  box-sizing: border-box;\n",
              "  margin-bottom: 0.5em;\n",
              "  /* unfitted */\n",
              "  background-color: var(--sklearn-color-unfitted-level-0);\n",
              "}\n",
              "\n",
              "#sk-container-id-1 div.sk-estimator.fitted {\n",
              "  /* fitted */\n",
              "  background-color: var(--sklearn-color-fitted-level-0);\n",
              "}\n",
              "\n",
              "/* on hover */\n",
              "#sk-container-id-1 div.sk-estimator:hover {\n",
              "  /* unfitted */\n",
              "  background-color: var(--sklearn-color-unfitted-level-2);\n",
              "}\n",
              "\n",
              "#sk-container-id-1 div.sk-estimator.fitted:hover {\n",
              "  /* fitted */\n",
              "  background-color: var(--sklearn-color-fitted-level-2);\n",
              "}\n",
              "\n",
              "/* Specification for estimator info (e.g. \"i\" and \"?\") */\n",
              "\n",
              "/* Common style for \"i\" and \"?\" */\n",
              "\n",
              ".sk-estimator-doc-link,\n",
              "a:link.sk-estimator-doc-link,\n",
              "a:visited.sk-estimator-doc-link {\n",
              "  float: right;\n",
              "  font-size: smaller;\n",
              "  line-height: 1em;\n",
              "  font-family: monospace;\n",
              "  background-color: var(--sklearn-color-background);\n",
              "  border-radius: 1em;\n",
              "  height: 1em;\n",
              "  width: 1em;\n",
              "  text-decoration: none !important;\n",
              "  margin-left: 1ex;\n",
              "  /* unfitted */\n",
              "  border: var(--sklearn-color-unfitted-level-1) 1pt solid;\n",
              "  color: var(--sklearn-color-unfitted-level-1);\n",
              "}\n",
              "\n",
              ".sk-estimator-doc-link.fitted,\n",
              "a:link.sk-estimator-doc-link.fitted,\n",
              "a:visited.sk-estimator-doc-link.fitted {\n",
              "  /* fitted */\n",
              "  border: var(--sklearn-color-fitted-level-1) 1pt solid;\n",
              "  color: var(--sklearn-color-fitted-level-1);\n",
              "}\n",
              "\n",
              "/* On hover */\n",
              "div.sk-estimator:hover .sk-estimator-doc-link:hover,\n",
              ".sk-estimator-doc-link:hover,\n",
              "div.sk-label-container:hover .sk-estimator-doc-link:hover,\n",
              ".sk-estimator-doc-link:hover {\n",
              "  /* unfitted */\n",
              "  background-color: var(--sklearn-color-unfitted-level-3);\n",
              "  color: var(--sklearn-color-background);\n",
              "  text-decoration: none;\n",
              "}\n",
              "\n",
              "div.sk-estimator.fitted:hover .sk-estimator-doc-link.fitted:hover,\n",
              ".sk-estimator-doc-link.fitted:hover,\n",
              "div.sk-label-container:hover .sk-estimator-doc-link.fitted:hover,\n",
              ".sk-estimator-doc-link.fitted:hover {\n",
              "  /* fitted */\n",
              "  background-color: var(--sklearn-color-fitted-level-3);\n",
              "  color: var(--sklearn-color-background);\n",
              "  text-decoration: none;\n",
              "}\n",
              "\n",
              "/* Span, style for the box shown on hovering the info icon */\n",
              ".sk-estimator-doc-link span {\n",
              "  display: none;\n",
              "  z-index: 9999;\n",
              "  position: relative;\n",
              "  font-weight: normal;\n",
              "  right: .2ex;\n",
              "  padding: .5ex;\n",
              "  margin: .5ex;\n",
              "  width: min-content;\n",
              "  min-width: 20ex;\n",
              "  max-width: 50ex;\n",
              "  color: var(--sklearn-color-text);\n",
              "  box-shadow: 2pt 2pt 4pt #999;\n",
              "  /* unfitted */\n",
              "  background: var(--sklearn-color-unfitted-level-0);\n",
              "  border: .5pt solid var(--sklearn-color-unfitted-level-3);\n",
              "}\n",
              "\n",
              ".sk-estimator-doc-link.fitted span {\n",
              "  /* fitted */\n",
              "  background: var(--sklearn-color-fitted-level-0);\n",
              "  border: var(--sklearn-color-fitted-level-3);\n",
              "}\n",
              "\n",
              ".sk-estimator-doc-link:hover span {\n",
              "  display: block;\n",
              "}\n",
              "\n",
              "/* \"?\"-specific style due to the `<a>` HTML tag */\n",
              "\n",
              "#sk-container-id-1 a.estimator_doc_link {\n",
              "  float: right;\n",
              "  font-size: 1rem;\n",
              "  line-height: 1em;\n",
              "  font-family: monospace;\n",
              "  background-color: var(--sklearn-color-background);\n",
              "  border-radius: 1rem;\n",
              "  height: 1rem;\n",
              "  width: 1rem;\n",
              "  text-decoration: none;\n",
              "  /* unfitted */\n",
              "  color: var(--sklearn-color-unfitted-level-1);\n",
              "  border: var(--sklearn-color-unfitted-level-1) 1pt solid;\n",
              "}\n",
              "\n",
              "#sk-container-id-1 a.estimator_doc_link.fitted {\n",
              "  /* fitted */\n",
              "  border: var(--sklearn-color-fitted-level-1) 1pt solid;\n",
              "  color: var(--sklearn-color-fitted-level-1);\n",
              "}\n",
              "\n",
              "/* On hover */\n",
              "#sk-container-id-1 a.estimator_doc_link:hover {\n",
              "  /* unfitted */\n",
              "  background-color: var(--sklearn-color-unfitted-level-3);\n",
              "  color: var(--sklearn-color-background);\n",
              "  text-decoration: none;\n",
              "}\n",
              "\n",
              "#sk-container-id-1 a.estimator_doc_link.fitted:hover {\n",
              "  /* fitted */\n",
              "  background-color: var(--sklearn-color-fitted-level-3);\n",
              "}\n",
              "</style><div id=\"sk-container-id-1\" class=\"sk-top-container\"><div class=\"sk-text-repr-fallback\"><pre>LogisticRegression(C=1000.0, solver=&#x27;saga&#x27;, tol=0.01)</pre><b>In a Jupyter environment, please rerun this cell to show the HTML representation or trust the notebook. <br />On GitHub, the HTML representation is unable to render, please try loading this page with nbviewer.org.</b></div><div class=\"sk-container\" hidden><div class=\"sk-item\"><div class=\"sk-estimator fitted sk-toggleable\"><input class=\"sk-toggleable__control sk-hidden--visually\" id=\"sk-estimator-id-1\" type=\"checkbox\" checked><label for=\"sk-estimator-id-1\" class=\"sk-toggleable__label fitted sk-toggleable__label-arrow fitted\">&nbsp;&nbsp;LogisticRegression<a class=\"sk-estimator-doc-link fitted\" rel=\"noreferrer\" target=\"_blank\" href=\"https://scikit-learn.org/1.5/modules/generated/sklearn.linear_model.LogisticRegression.html\">?<span>Documentation for LogisticRegression</span></a><span class=\"sk-estimator-doc-link fitted\">i<span>Fitted</span></span></label><div class=\"sk-toggleable__content fitted\"><pre>LogisticRegression(C=1000.0, solver=&#x27;saga&#x27;, tol=0.01)</pre></div> </div></div></div></div>"
            ]
          },
          "metadata": {},
          "execution_count": 12
        }
      ],
      "source": [
        "# Find the best lambda value\n",
        "best_lambda_l2 = param_grid['C'][np.argmax(accuracy_scores)]\n",
        "best_accuracy_l2 = max(accuracy_scores)\n",
        "\n",
        "print(\"Best lambda:\", best_lambda_l2)\n",
        "print(\"Best accuracy:\", best_accuracy_l2)\n",
        "\n",
        "# Train the final model with the best lambda parameter\n",
        "best_model_l2 = LogisticRegression(C=best_lambda_l2, penalty=\"l2\", tol=0.01, solver=\"saga\")\n",
        "best_model_l2.fit(X_train, y_train)"
      ]
    },
    {
      "cell_type": "markdown",
      "source": [
        "The value of lambda that leads to the best model is 100."
      ],
      "metadata": {
        "id": "S4_kWyfaI7oR"
      },
      "id": "S4_kWyfaI7oR"
    },
    {
      "cell_type": "markdown",
      "id": "2cfbcdc4-171c-4f57-a059-68d781bae3e3",
      "metadata": {
        "id": "2cfbcdc4-171c-4f57-a059-68d781bae3e3"
      },
      "source": [
        "Using the chosen model, check its generalization error using the test set. Print the accuracy:"
      ]
    },
    {
      "cell_type": "code",
      "execution_count": null,
      "id": "7651948f-3688-44ab-828d-0d5630b4f11d",
      "metadata": {
        "colab": {
          "base_uri": "https://localhost:8080/"
        },
        "id": "7651948f-3688-44ab-828d-0d5630b4f11d",
        "outputId": "96b7147b-5617-4a0a-e8dd-4574d87ca4f7"
      },
      "outputs": [
        {
          "output_type": "stream",
          "name": "stdout",
          "text": [
            "Accuracy:  0.9138888888888889\n"
          ]
        }
      ],
      "source": [
        "y_pred = best_model_l2.predict(X_test)\n",
        "accuracy = accuracy_score(y_test, y_pred)\n",
        "print(\"Accuracy: \", accuracy)"
      ]
    },
    {
      "cell_type": "markdown",
      "id": "76d4e81f-8b6b-48c4-8d4f-39d6308b639a",
      "metadata": {
        "id": "76d4e81f-8b6b-48c4-8d4f-39d6308b639a"
      },
      "source": [
        "### L1 regularization\n",
        "Now, we will do a similar exercise using Logistic Regression with L1 regularization:"
      ]
    },
    {
      "cell_type": "code",
      "execution_count": null,
      "id": "4b9ea257-0ea3-4185-a7ed-71a6bb808831",
      "metadata": {
        "id": "4b9ea257-0ea3-4185-a7ed-71a6bb808831"
      },
      "outputs": [],
      "source": [
        "model_l1 = LogisticRegression(penalty=\"l1\", tol=0.01, solver=\"saga\")"
      ]
    },
    {
      "cell_type": "markdown",
      "id": "b5ed0852-8395-4691-9cda-f0f5ada4ecae",
      "metadata": {
        "id": "b5ed0852-8395-4691-9cda-f0f5ada4ecae"
      },
      "source": [
        "Use the code used to cross-validate Logistic regression with L2 regularization and choose the best model, do the same to choose the best model when using the L1 regularization."
      ]
    },
    {
      "cell_type": "code",
      "execution_count": 24,
      "id": "b94a4e08-a6ba-4dbc-a832-5318d7459f54",
      "metadata": {
        "id": "b94a4e08-a6ba-4dbc-a832-5318d7459f54",
        "outputId": "6cf04b41-ce94-4071-b6d0-4d07a3f4f523",
        "colab": {
          "base_uri": "https://localhost:8080/"
        }
      },
      "outputs": [
        {
          "output_type": "stream",
          "name": "stdout",
          "text": [
            "Now testing for lambda:  1000.0\n",
            "accuracy: 0.9131944444444444\n",
            "accuracy: 0.8819444444444444\n",
            "accuracy: 0.8571428571428571\n",
            "accuracy: 0.9163763066202091\n",
            "accuracy: 0.8571428571428571\n",
            "average of fold 0.8851601819589623\n",
            "Now testing for lambda:  100.0\n",
            "accuracy: 0.9131944444444444\n",
            "accuracy: 0.8819444444444444\n",
            "accuracy: 0.8571428571428571\n",
            "accuracy: 0.9198606271777003\n",
            "accuracy: 0.8571428571428571\n",
            "average of fold 0.8858570460704607\n",
            "Now testing for lambda:  10.0\n",
            "accuracy: 0.9131944444444444\n",
            "accuracy: 0.8819444444444444\n",
            "accuracy: 0.8571428571428571\n",
            "accuracy: 0.9198606271777003\n",
            "accuracy: 0.8571428571428571\n",
            "average of fold 0.8858570460704607\n",
            "Now testing for lambda:  1.0\n",
            "accuracy: 0.9131944444444444\n",
            "accuracy: 0.8854166666666666\n",
            "accuracy: 0.8571428571428571\n",
            "accuracy: 0.9163763066202091\n",
            "accuracy: 0.8571428571428571\n",
            "average of fold 0.8858546264034068\n",
            "Now testing for lambda:  0.1\n",
            "accuracy: 0.8888888888888888\n",
            "accuracy: 0.8819444444444444\n",
            "accuracy: 0.8536585365853658\n",
            "accuracy: 0.9024390243902439\n",
            "accuracy: 0.8536585365853658\n",
            "average of fold 0.8761178861788619\n",
            "Now testing for lambda:  0.01\n",
            "accuracy: 0.84375\n",
            "accuracy: 0.8680555555555556\n",
            "accuracy: 0.8118466898954704\n",
            "accuracy: 0.8292682926829268\n",
            "accuracy: 0.7839721254355401\n",
            "average of fold 0.8273785327138985\n",
            "Best lambda for L1 regularization: 100.0\n",
            "Best accuracy for L1 regularization: 0.8858570460704607\n",
            "Final Accuracy for L1 regularization:  0.9138888888888889\n"
          ]
        }
      ],
      "source": [
        "accuracy_scores = [] # Reinitialize the list to store accuracy scores for L1\n",
        "\n",
        "for a_lambda in param_grid['C']: # Perform cross-validation for each value of C in the grid\n",
        "    print('Now testing for lambda: ', a_lambda)\n",
        "    C = a_lambda # Scikit-learn's regularization hyperparameter is equivalent to 1/lambda from the course.\n",
        "    model_l1.set_params(C=C) # Update the model's C parameter for the current lambda\n",
        "    fold_accuracies = [] # Stores the accuracy of the trained model for each fold\n",
        "\n",
        "    for train_index, val_index in kf.split(X_train): # Split the training data into K folds\n",
        "        X_ttrain, X_val = X_train[train_index], X_train[val_index] # Extract the training and validation data for the current fold\n",
        "        y_ttrain, y_val = y_train[train_index], y_train[val_index] # Extract the corresponding labels for the current fold\n",
        "\n",
        "        model_l1.fit(X_ttrain, y_ttrain) # Train the model on the training data of the current fold\n",
        "        y_pred = model_l1.predict(X_val) # Predict the labels on the validation data\n",
        "        accuracy = accuracy_score(y_val, y_pred) # Calculate the accuracy of the model on the validation set\n",
        "        print('accuracy:', accuracy) # Print the accuracy for the current fold\n",
        "        fold_accuracies.append(accuracy) # Append the accuracy to the list of fold accuracies\n",
        "\n",
        "    average_accuracy = sum(fold_accuracies) / num_folds # Calculate the average accuracy over all folds\n",
        "    print('average of fold', average_accuracy) # Print the average accuracy for the current lambda\n",
        "    accuracy_scores.append(average_accuracy) # Append the average accuracy to the list of accuracy scores\n",
        "\n",
        "# Find the best lambda value for L1 regularization\n",
        "best_lambda_l1 = param_grid['C'][np.argmax(accuracy_scores)]\n",
        "best_accuracy_l1 = max(accuracy_scores)\n",
        "print(\"Best lambda for L1 regularization:\", best_lambda_l1)\n",
        "print(\"Best accuracy for L1 regularization:\", best_accuracy_l1)\n",
        "\n",
        "# Train the final model with the best lambda parameter for L1 regularization\n",
        "best_model_l1 = LogisticRegression(C=best_lambda_l1, penalty=\"l1\", tol=0.01, solver=\"saga\")\n",
        "best_model_l1.fit(X_train, y_train)\n",
        "\n",
        "# Evaluate the final L1 model on the test set\n",
        "y_pred = best_model_l1.predict(X_test)\n",
        "final_accuracy_l1 = accuracy_score(y_test, y_pred)\n",
        "print(\"Final Accuracy for L1 regularization: \", final_accuracy_l1)"
      ]
    },
    {
      "cell_type": "markdown",
      "id": "57859154-2560-4a19-a6a5-81620d57c783",
      "metadata": {
        "id": "57859154-2560-4a19-a6a5-81620d57c783"
      },
      "source": [
        "**Important:** You should not use the generalization performance of each of the models (L1 vs L2) to do a choice among them. You would need a cross-validation procedure for that matter."
      ]
    },
    {
      "cell_type": "markdown",
      "id": "82e5abd9-63fa-453a-a996-6741724e57d7",
      "metadata": {
        "id": "82e5abd9-63fa-453a-a996-6741724e57d7"
      },
      "source": [
        "## Comparing the properties of each regularization strategy\n",
        "We will now use the full training set to study some of the properties of each regularization strategy.\n",
        "\n",
        "In the code snippet below, you will be training 3 different models per regularization strategy and observing how these affect the weights of the model.\n",
        "\n",
        "**Your task:** Comment the lines of code that do not have any comments.\n",
        "\n",
        "As a reminder, the parameter C in scikit-learn is equivalent to C=1/lambda, where lambda is the regularization hyperparameter as seen in the course."
      ]
    },
    {
      "cell_type": "code",
      "execution_count": 26,
      "id": "e7291383-327c-4cf7-834c-e655d9406852",
      "metadata": {
        "id": "e7291383-327c-4cf7-834c-e655d9406852",
        "outputId": "829182cd-7645-4c17-de11-9e8a776aa456",
        "colab": {
          "base_uri": "https://localhost:8080/",
          "height": 688
        }
      },
      "outputs": [
        {
          "output_type": "stream",
          "name": "stdout",
          "text": [
            "C=1.00\n",
            "Sparsity with L1 penalty:                6.25%\n",
            "Sparsity with L2 penalty:                4.69%\n",
            "Score with L1 penalty:                   0.10\n",
            "Score with L2 penalty:                   0.10\n",
            "C=0.10\n",
            "Sparsity with L1 penalty:                32.81%\n",
            "Sparsity with L2 penalty:                4.69%\n",
            "Score with L1 penalty:                   0.10\n",
            "Score with L2 penalty:                   0.10\n",
            "C=0.01\n",
            "Sparsity with L1 penalty:                85.94%\n",
            "Sparsity with L2 penalty:                4.69%\n",
            "Score with L1 penalty:                   0.10\n",
            "Score with L2 penalty:                   0.10\n"
          ]
        },
        {
          "output_type": "display_data",
          "data": {
            "text/plain": [
              "<Figure size 640x480 with 6 Axes>"
            ],
            "image/png": "[encoded data removed]"
          },
          "metadata": {}
        }
      ],
      "source": [
        "fig, axes = plt.subplots(3, 2) # Create a subplot grid with 3 rows and 2 columns\n",
        "\n",
        "# Set regularization parameter\n",
        "for i, (C, axes_row) in enumerate(zip((1, 0.1, 0.01), axes)): # Loop over different values of the regularization parameter C\n",
        "    # Increase tolerance for short training time\n",
        "    model_l1 = LogisticRegression(C=C, penalty=\"l1\", tol=0.01, solver=\"saga\") # Initialize Logistic Regression with L1 penalty\n",
        "    model_l2 = LogisticRegression(C=C, penalty=\"l2\", tol=0.01, solver=\"saga\") # Initialize Logistic Regression with L2 penalty\n",
        "\n",
        "    model_l1.fit(X_train, y_train) # Fit the L1-penalized model on the training data\n",
        "    model_l2.fit(X_train, y_train) # Fit the L2-penalized model on the training data\n",
        "\n",
        "    coef_l1_LR = model_l1.coef_.ravel() # Extract and flatten the coefficients for the L1 model\n",
        "    coef_l2_LR = model_l2.coef_.ravel() # Extract and flatten the coefficients for the L2 model\n",
        "\n",
        "    # coef_l1_LR contains zeros due to the\n",
        "    # L1 sparsity inducing norm\n",
        "\n",
        "    sparsity_l1_LR = np.mean(coef_l1_LR == 0) * 100 # Calculate the percentage of zero coefficients for the L1 model\n",
        "    sparsity_l2_LR = np.mean(coef_l2_LR == 0) * 100 # Calculate the percentage of zero coefficients for the L2 model\n",
        "\n",
        "    #DO NOT COMMENT THE LINES BELOW\n",
        "    print(f\"C={C:.2f}\")\n",
        "    print(f\"{'Sparsity with L1 penalty:':<40} {sparsity_l1_LR:.2f}%\")\n",
        "    print(f\"{'Sparsity with L2 penalty:':<40} {sparsity_l2_LR:.2f}%\")\n",
        "    print(f\"{'Score with L1 penalty:':<40} {model_l1.score(X, y):.2f}\")\n",
        "    print(f\"{'Score with L2 penalty:':<40} {model_l2.score(X, y):.2f}\")\n",
        "\n",
        "    if i == 0: # Set titles for the first row of subplots\n",
        "        axes_row[0].set_title(\"L1 penalty\")\n",
        "        axes_row[1].set_title(\"L2 penalty\")\n",
        "\n",
        "    for ax, coefs in zip(axes_row, [coef_l1_LR, coef_l2_LR]): # Loop through the axes and coefficients for visualization\n",
        "        ax.imshow(\n",
        "            np.abs(coefs.reshape(8, 8)), # Reshape and visualize the coefficients as an 8x8 grid\n",
        "            interpolation=\"nearest\", # Set interpolation for better visualization\n",
        "            cmap=\"binary\", # Use a binary color map\n",
        "            vmax=1, # Set the maximum value for the color scale\n",
        "            vmin=0, # Set the minimum value for the color scale\n",
        "        )\n",
        "        ax.set_xticks(()) # Remove x-axis ticks\n",
        "        ax.set_yticks(()) # Remove y-axis ticks\n",
        "\n",
        "    axes_row[0].set_ylabel(f\"C = {C}\") # Label the rows with the value of C\n",
        "\n",
        "plt.show() # Display the plot\n",
        "\n",
        "\n",
        "#Note: This code example has been adapted from scikit-learn"
      ]
    },
    {
      "cell_type": "markdown",
      "id": "de0617db-f100-4c69-af15-ce2c795d6d5e",
      "metadata": {
        "id": "de0617db-f100-4c69-af15-ce2c795d6d5e"
      },
      "source": [
        "**Question:** Explain the differences between L1 and L2 regularization at the light of the observed plots. What are the obtained results saying?"
      ]
    },
    {
      "cell_type": "markdown",
      "id": "f1a57c19-5df5-4031-91d1-304f08936bf3",
      "metadata": {
        "id": "f1a57c19-5df5-4031-91d1-304f08936bf3"
      },
      "source": [
        "L1 regularization induces high sparsity, meaning more coefficients are set to zero as the regularization strength (C) decreases, with values ranging from 6.25% to 85.94%. In contrast, L2 regularization (Ridge) maintains a constant sparsity of 4.69% regardless of C, as it doesn't set coefficients to zero but shrinks them.\n",
        "\n",
        "Despite these differences in sparsity, the model performance (score) remains the same (0.10) for both L1 and L2 regularization, suggesting that sparsity does not impact performance significantly in this case."
      ]
    }
  ],
  "metadata": {
    "kernelspec": {
      "display_name": "Python 3 (ipykernel)",
      "language": "python",
      "name": "python3"
    },
    "language_info": {
      "codemirror_mode": {
        "name": "ipython",
        "version": 3
      },
      "file_extension": ".py",
      "mimetype": "text/x-python",
      "name": "python",
      "nbconvert_exporter": "python",
      "pygments_lexer": "ipython3",
      "version": "3.8.13"
    },
    "colab": {
      "provenance": []
    }
  },
  "nbformat": 4,
  "nbformat_minor": 5
}
